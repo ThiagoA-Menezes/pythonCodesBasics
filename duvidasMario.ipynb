{
 "cells": [
  {
   "cell_type": "code",
   "execution_count": 53,
   "metadata": {},
   "outputs": [],
   "source": [
    "#Start by importing the libraries\n",
    "import pandas as pd\n",
    "import os\n"
   ]
  },
  {
   "cell_type": "code",
   "execution_count": 54,
   "metadata": {},
   "outputs": [
    {
     "name": "stdout",
     "output_type": "stream",
     "text": [
      "We are working on this directory:  p:\\Python - Projetos\\projetoPessoal\n",
      "--------------------------------------------------\n",
      "We've found these files:  ['.git', 'duvidasMario.ipynb', 'freights_database.xlsx', 'README.md', '~$freights_database.xlsx']\n"
     ]
    }
   ],
   "source": [
    "# C0hecking the local directory}\n",
    "current_directory = os.getcwd()\n",
    "files = os.listdir(current_directory)\n",
    "print(\"We are working on this directory: \", current_directory)\n",
    "print('-'*50)\n",
    "print(\"We've found these files: \", files)"
   ]
  },
  {
   "cell_type": "code",
   "execution_count": 55,
   "metadata": {},
   "outputs": [
    {
     "data": {
      "text/html": [
       "<div>\n",
       "<style scoped>\n",
       "    .dataframe tbody tr th:only-of-type {\n",
       "        vertical-align: middle;\n",
       "    }\n",
       "\n",
       "    .dataframe tbody tr th {\n",
       "        vertical-align: top;\n",
       "    }\n",
       "\n",
       "    .dataframe thead th {\n",
       "        text-align: right;\n",
       "    }\n",
       "</style>\n",
       "<table border=\"1\" class=\"dataframe\">\n",
       "  <thead>\n",
       "    <tr style=\"text-align: right;\">\n",
       "      <th></th>\n",
       "      <th>From Loc</th>\n",
       "      <th>Poroduct/ Barcode</th>\n",
       "      <th>Date</th>\n",
       "    </tr>\n",
       "  </thead>\n",
       "  <tbody>\n",
       "    <tr>\n",
       "      <th>0</th>\n",
       "      <td>03-07 Boren Loren Turren</td>\n",
       "      <td>16AF802CP</td>\n",
       "      <td>2024-05-01</td>\n",
       "    </tr>\n",
       "    <tr>\n",
       "      <th>1</th>\n",
       "      <td>03-07 Boren Loren Turren</td>\n",
       "      <td>16AF802CP</td>\n",
       "      <td>2024-05-02</td>\n",
       "    </tr>\n",
       "    <tr>\n",
       "      <th>2</th>\n",
       "      <td>03-07 Boren Loren Turren</td>\n",
       "      <td>16AF802CP</td>\n",
       "      <td>2024-05-06</td>\n",
       "    </tr>\n",
       "    <tr>\n",
       "      <th>3</th>\n",
       "      <td>03-07 Boren Loren Turren</td>\n",
       "      <td>16AF802CP</td>\n",
       "      <td>2024-05-07</td>\n",
       "    </tr>\n",
       "    <tr>\n",
       "      <th>4</th>\n",
       "      <td>03-07 Boren Loren Turren</td>\n",
       "      <td>16AF802CP</td>\n",
       "      <td>2024-05-03</td>\n",
       "    </tr>\n",
       "  </tbody>\n",
       "</table>\n",
       "</div>"
      ],
      "text/plain": [
       "                   From Loc Poroduct/ Barcode      Date \n",
       "0  03-07 Boren Loren Turren         16AF802CP 2024-05-01\n",
       "1  03-07 Boren Loren Turren         16AF802CP 2024-05-02\n",
       "2  03-07 Boren Loren Turren         16AF802CP 2024-05-06\n",
       "3  03-07 Boren Loren Turren         16AF802CP 2024-05-07\n",
       "4  03-07 Boren Loren Turren         16AF802CP 2024-05-03"
      ]
     },
     "execution_count": 55,
     "metadata": {},
     "output_type": "execute_result"
    }
   ],
   "source": [
    "df = pd.read_excel('freights_database.xlsx', sheet_name='Página1')\n",
    "df.head(5)"
   ]
  },
  {
   "cell_type": "code",
   "execution_count": 56,
   "metadata": {},
   "outputs": [],
   "source": [
    "df['counting'] = 1"
   ]
  },
  {
   "cell_type": "code",
   "execution_count": 57,
   "metadata": {},
   "outputs": [
    {
     "data": {
      "text/html": [
       "<div>\n",
       "<style scoped>\n",
       "    .dataframe tbody tr th:only-of-type {\n",
       "        vertical-align: middle;\n",
       "    }\n",
       "\n",
       "    .dataframe tbody tr th {\n",
       "        vertical-align: top;\n",
       "    }\n",
       "\n",
       "    .dataframe thead th {\n",
       "        text-align: right;\n",
       "    }\n",
       "</style>\n",
       "<table border=\"1\" class=\"dataframe\">\n",
       "  <thead>\n",
       "    <tr style=\"text-align: right;\">\n",
       "      <th></th>\n",
       "      <th>From Loc</th>\n",
       "      <th>Poroduct/ Barcode</th>\n",
       "      <th>Date</th>\n",
       "      <th>counting</th>\n",
       "    </tr>\n",
       "  </thead>\n",
       "  <tbody>\n",
       "    <tr>\n",
       "      <th>0</th>\n",
       "      <td>03-07 Boren Loren Turren</td>\n",
       "      <td>16AF802CP</td>\n",
       "      <td>2024-05-01</td>\n",
       "      <td>1</td>\n",
       "    </tr>\n",
       "    <tr>\n",
       "      <th>1</th>\n",
       "      <td>03-07 Boren Loren Turren</td>\n",
       "      <td>16AF802CP</td>\n",
       "      <td>2024-05-02</td>\n",
       "      <td>1</td>\n",
       "    </tr>\n",
       "    <tr>\n",
       "      <th>2</th>\n",
       "      <td>03-07 Boren Loren Turren</td>\n",
       "      <td>16AF802CP</td>\n",
       "      <td>2024-05-06</td>\n",
       "      <td>1</td>\n",
       "    </tr>\n",
       "    <tr>\n",
       "      <th>3</th>\n",
       "      <td>03-07 Boren Loren Turren</td>\n",
       "      <td>16AF802CP</td>\n",
       "      <td>2024-05-07</td>\n",
       "      <td>1</td>\n",
       "    </tr>\n",
       "    <tr>\n",
       "      <th>4</th>\n",
       "      <td>03-07 Boren Loren Turren</td>\n",
       "      <td>16AF802CP</td>\n",
       "      <td>2024-05-03</td>\n",
       "      <td>1</td>\n",
       "    </tr>\n",
       "  </tbody>\n",
       "</table>\n",
       "</div>"
      ],
      "text/plain": [
       "                   From Loc Poroduct/ Barcode      Date   counting\n",
       "0  03-07 Boren Loren Turren         16AF802CP 2024-05-01         1\n",
       "1  03-07 Boren Loren Turren         16AF802CP 2024-05-02         1\n",
       "2  03-07 Boren Loren Turren         16AF802CP 2024-05-06         1\n",
       "3  03-07 Boren Loren Turren         16AF802CP 2024-05-07         1\n",
       "4  03-07 Boren Loren Turren         16AF802CP 2024-05-03         1"
      ]
     },
     "execution_count": 57,
     "metadata": {},
     "output_type": "execute_result"
    }
   ],
   "source": [
    "# Checking the head of m\n",
    "df.head(5)"
   ]
  },
  {
   "cell_type": "code",
   "execution_count": 58,
   "metadata": {},
   "outputs": [
    {
     "data": {
      "text/html": [
       "<div>\n",
       "<style scoped>\n",
       "    .dataframe tbody tr th:only-of-type {\n",
       "        vertical-align: middle;\n",
       "    }\n",
       "\n",
       "    .dataframe tbody tr th {\n",
       "        vertical-align: top;\n",
       "    }\n",
       "\n",
       "    .dataframe thead th {\n",
       "        text-align: right;\n",
       "    }\n",
       "</style>\n",
       "<table border=\"1\" class=\"dataframe\">\n",
       "  <thead>\n",
       "    <tr style=\"text-align: right;\">\n",
       "      <th></th>\n",
       "      <th>From Loc</th>\n",
       "      <th>Poroduct/ Barcode</th>\n",
       "      <th>Date</th>\n",
       "      <th>counting</th>\n",
       "    </tr>\n",
       "  </thead>\n",
       "  <tbody>\n",
       "    <tr>\n",
       "      <th>0</th>\n",
       "      <td>03-07 Boren Loren Turren</td>\n",
       "      <td>16AF802CP</td>\n",
       "      <td>2024-05-01</td>\n",
       "      <td>1</td>\n",
       "    </tr>\n",
       "    <tr>\n",
       "      <th>1</th>\n",
       "      <td>03-07 Boren Loren Turren</td>\n",
       "      <td>16AF802CP</td>\n",
       "      <td>2024-05-02</td>\n",
       "      <td>1</td>\n",
       "    </tr>\n",
       "    <tr>\n",
       "      <th>2</th>\n",
       "      <td>03-07 Boren Loren Turren</td>\n",
       "      <td>16AF802CP</td>\n",
       "      <td>2024-05-06</td>\n",
       "      <td>1</td>\n",
       "    </tr>\n",
       "    <tr>\n",
       "      <th>3</th>\n",
       "      <td>03-07 Boren Loren Turren</td>\n",
       "      <td>16AF802CP</td>\n",
       "      <td>2024-05-07</td>\n",
       "      <td>1</td>\n",
       "    </tr>\n",
       "  </tbody>\n",
       "</table>\n",
       "</div>"
      ],
      "text/plain": [
       "                   From Loc Poroduct/ Barcode      Date   counting\n",
       "0  03-07 Boren Loren Turren         16AF802CP 2024-05-01         1\n",
       "1  03-07 Boren Loren Turren         16AF802CP 2024-05-02         1\n",
       "2  03-07 Boren Loren Turren         16AF802CP 2024-05-06         1\n",
       "3  03-07 Boren Loren Turren         16AF802CP 2024-05-07         1"
      ]
     },
     "execution_count": 58,
     "metadata": {},
     "output_type": "execute_result"
    }
   ],
   "source": [
    "#  This code was used to drop a column created by mistake\n",
    "# df = df.drop(columns=['contagem'])\n",
    "df.head(4)"
   ]
  },
  {
   "cell_type": "code",
   "execution_count": 59,
   "metadata": {},
   "outputs": [],
   "source": [
    "grouped = df.groupby(['Poroduct/ Barcode']).value_counts()"
   ]
  },
  {
   "cell_type": "code",
   "execution_count": 60,
   "metadata": {},
   "outputs": [],
   "source": [
    "df['freq'] = df.groupby('Poroduct/ Barcode')['Poroduct/ Barcode'].transform('count')"
   ]
  },
  {
   "cell_type": "code",
   "execution_count": null,
   "metadata": {},
   "outputs": [],
   "source": []
  },
  {
   "cell_type": "code",
   "execution_count": null,
   "metadata": {},
   "outputs": [],
   "source": []
  }
 ],
 "metadata": {
  "kernelspec": {
   "display_name": "Python 3",
   "language": "python",
   "name": "python3"
  },
  "language_info": {
   "codemirror_mode": {
    "name": "ipython",
    "version": 3
   },
   "file_extension": ".py",
   "mimetype": "text/x-python",
   "name": "python",
   "nbconvert_exporter": "python",
   "pygments_lexer": "ipython3",
   "version": "3.12.4"
  }
 },
 "nbformat": 4,
 "nbformat_minor": 2
}
